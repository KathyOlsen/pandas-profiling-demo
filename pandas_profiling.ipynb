{
 "cells": [
  {
   "cell_type": "markdown",
   "metadata": {},
   "source": [
    "# Fast Pandas Profiling\n",
    " _like...Panda Express fast_ \n",
    "\n",
    "## Python Package Demo: pandas_profiling\n",
    "\n",
    "### The Demonstration\n",
    "The heart of the presentation is six cells of code showing a use case for the `pandas_profiling` package. These six cells demonstrate:\n",
    "* creating a `ProfileReport` object\n",
    "* presenting the object as a Jupyter Notebook widget and an HTML embedded iframe\n",
    "* changing the report configuration\n",
    "* exporting the report to a standalone HTML file\n",
    "\n",
    "### The Package\n",
    "> Generates profile reports from a pandas `DataFrame`. The pandas `df.describe()` function is great but a little basic for serious exploratory data analysis. `pandas_profiling` extends the pandas DataFrame with `df.profile_report()` for quick data analysis.\n",
    "\n",
    "You can read about the `pandas_profiling` package at this [PyPi link](https://pypi.org/project/pandas-profiling/).\n",
    "\n",
    "### The Data \n",
    "Data purposely unfamiliar to participants is used in the demo today to profile a novel data set. The data come from the [UCI Machine Learning Repository](https://archive.ics.uci.edu/ml/datasets/Horse+Colic) and is stored as space-delimited files. The metadata notes:\n",
    "\n",
    "> **Abstract**\n",
    ">- Well documented attributes\n",
    ">- 368 instances with 28 attributes* (continuous, discrete, and nominal)\n",
    ">- 30% missing values\n",
    "\n",
    "*Note: For Attribute 28 `cp_data`, the data dictionary notes*\n",
    ">this variable is of no significance since pathology data is not included or collected for these cases\n",
    "\n",
    "It is ultimately dropped from the data in pre-processing"
   ]
  },
  {
   "cell_type": "code",
   "execution_count": null,
   "metadata": {},
   "outputs": [],
   "source": [
    "# packages for data ETL\n",
    "import urllib\n",
    "import my_simplifying_module as msm  \n",
    "\n",
    "# packages to create required DataFrame object\n",
    "import numpy as np\n",
    "import pandas as pd\n",
    "\n",
    "# package to profile the DataFrame\n",
    "from pandas_profiling import ProfileReport\n",
    "\n",
    "pd.options.display.max_columns=30\n",
    "%load_ext watermark"
   ]
  },
  {
   "cell_type": "code",
   "execution_count": null,
   "metadata": {},
   "outputs": [],
   "source": [
    "%watermark -v -iv -n -p pandas_profiling"
   ]
  },
  {
   "cell_type": "markdown",
   "metadata": {},
   "source": [
    "### Data Pre-processing\n",
    "\n",
    "The data on the external data repository `horse-colic.data` is from 1989. The data is stored as a space-delimited file without a header of column names. The data dictionary (at the [UCI Machine Learning Repository](https://archive.ics.uci.edu/ml/datasets/Horse+Colic)) contains the 28 attributes within text coded as bytes.\n",
    "\n",
    "The cell below handles all the pre-processing of the column names and data. It is provided for full reproducability, but is not the focus of this demo. The pre-processing steps are packaged in the module `my_simplifying_module`:\n",
    "\n",
    "**Column Names**\n",
    "1. create a regular expression pattern to isolate and extract the variable names\n",
    "2. open the file `horse-colic.names` and step through each line\n",
    "  - decode bytes to utf-8\n",
    "  - for lines containing a variable (matches the regular expression)\n",
    "    - extract the required regular expression group\n",
    "    - tranform variable names `tolower()` and snake case\n",
    "3. add in two variable names not captured in loop\n",
    "\n",
    "**Data**\n",
    "1. open the file `horse-colic.data` using `pd.read_csv()`\n",
    "  - pass parameters to handle space-deliminated and `?` used as `NaN`s\n",
    "  - pass a dictionary of columns to coerce to string type\n",
    "2. drop the variable `cp_data`, as noted above  "
   ]
  },
  {
   "cell_type": "code",
   "execution_count": null,
   "metadata": {},
   "outputs": [],
   "source": [
    "names_url = 'https://archive.ics.uci.edu/ml/machine-learning-databases/horse-colic/horse-colic.names'\n",
    "data_url = 'https://archive.ics.uci.edu/ml/machine-learning-databases/horse-colic/horse-colic.data'\n",
    "\n",
    "names_file = urllib.request.urlopen(names_url)\n",
    "col_names = msm.column_name_processing(names_file)\n",
    "\n",
    "data = msm.data_file_processing(data_url, col_names)"
   ]
  },
  {
   "cell_type": "code",
   "execution_count": null,
   "metadata": {
    "scrolled": false
   },
   "outputs": [],
   "source": [
    "data.sample(5)"
   ]
  },
  {
   "cell_type": "markdown",
   "metadata": {},
   "source": [
    "## A standard pandas approach to data profiling\n",
    "\n",
    "The `<dataframe>.describe()` function - along with its parameters like `include='object'` - does a good job of summarizing numerical and categorical data. Those are shown below. "
   ]
  },
  {
   "cell_type": "code",
   "execution_count": null,
   "metadata": {
    "scrolled": true
   },
   "outputs": [],
   "source": [
    "data.describe()"
   ]
  },
  {
   "cell_type": "code",
   "execution_count": null,
   "metadata": {},
   "outputs": [],
   "source": [
    "data.describe(include='object')"
   ]
  },
  {
   "cell_type": "markdown",
   "metadata": {},
   "source": [
    "## Generating Profiling Reports for EDA\n",
    "\n",
    "Next steps in Exploratory Data Analysis might include:\n",
    "* finding missing values\n",
    "* checking if data types need adjusting\n",
    "* finding correlations\n",
    "* plotting histograms\n",
    "* and more\n",
    "\n",
    "The `pandas_profiling` package is an early generation of these type of off-the-shelf tools. Let's look those six cells of code that will\n",
    "\n",
    "- create a ProfileReport object\n",
    "- present the object as a Jupyter Notebook widget and an HTML embedded iframe\n",
    "- change the report configuration to customize the output, to some degree\n",
    "- export the report to a standalone HTML file"
   ]
  },
  {
   "cell_type": "code",
   "execution_count": null,
   "metadata": {},
   "outputs": [],
   "source": [
    "# Create a ProfileReport object\n",
    "# in this case used minimal=True to supress correlations\n",
    "\n",
    "profile = ProfileReport(data, minimal=True,\n",
    "                        title='Profile of Horse Colic Data v1.0'\n",
    "                       )"
   ]
  },
  {
   "cell_type": "code",
   "execution_count": null,
   "metadata": {},
   "outputs": [],
   "source": [
    "# View in the notebook as a widget\n",
    "profile.to_widgets()"
   ]
  },
  {
   "cell_type": "code",
   "execution_count": null,
   "metadata": {
    "scrolled": true
   },
   "outputs": [],
   "source": [
    "profile_frame = ProfileReport(data, minimal=True,\n",
    "                              title='Profile of Horse Colic Data v1.0'\n",
    "                            )\n",
    "\n",
    "# View in the notebook as an HTML iframe\n",
    "profile_frame.to_notebook_iframe()"
   ]
  },
  {
   "cell_type": "markdown",
   "metadata": {},
   "source": [
    "## Configuring the report\n",
    "\n",
    "It is well worth exploring the [Advanced Usage](https://pandas-profiling.github.io/pandas-profiling/docs/master/rtd/pages/advanced_usage.html) for configuration output options.\n",
    "\n",
    "In our demostration, the HTML output parameters are changed to use brand colors and logo. Those are found at the end of the [YAML configuration file](./custom_config.yml)."
   ]
  },
  {
   "cell_type": "code",
   "execution_count": null,
   "metadata": {},
   "outputs": [],
   "source": [
    "# change the report configuration to customize the output\n",
    "full_profile = ProfileReport(data,\n",
    "                             title='Profile of Horse Colic Data',\n",
    "                             config_file='custom_config.yml'\n",
    "                            )"
   ]
  },
  {
   "cell_type": "code",
   "execution_count": null,
   "metadata": {},
   "outputs": [],
   "source": [
    "full_profile.to_notebook_iframe()"
   ]
  },
  {
   "cell_type": "code",
   "execution_count": null,
   "metadata": {
    "scrolled": true
   },
   "outputs": [],
   "source": [
    "# export the report to a standalone HTML file\n",
    "full_profile.to_file(\"./horse_colic_report.html\")"
   ]
  }
 ],
 "metadata": {
  "file_extension": ".py",
  "kernelspec": {
   "display_name": "Python 3",
   "language": "python",
   "name": "python3"
  },
  "language_info": {
   "codemirror_mode": {
    "name": "ipython",
    "version": 3
   },
   "file_extension": ".py",
   "mimetype": "text/x-python",
   "name": "python",
   "nbconvert_exporter": "python",
   "pygments_lexer": "ipython3",
   "version": "3.7.9"
  },
  "mimetype": "text/x-python",
  "name": "python",
  "npconvert_exporter": "python",
  "pygments_lexer": "ipython3",
  "version": 3
 },
 "nbformat": 4,
 "nbformat_minor": 2
}
